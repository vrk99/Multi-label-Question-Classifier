{
 "cells": [
  {
   "cell_type": "code",
   "execution_count": 8,
   "metadata": {},
   "outputs": [],
   "source": [
    "#import libraries\n",
    "\n",
    "import numpy as np\n",
    "import pandas as pd\n",
    "import nltk\n",
    "from bs4 import BeautifulSoup\n",
    "import random\n",
    "import re\n",
    "import string"
   ]
  },
  {
   "cell_type": "code",
   "execution_count": 9,
   "metadata": {},
   "outputs": [],
   "source": [
    "#load preprocessed data\n",
    "\n",
    "X = pd.read_feather('./X.ftr')\n",
    "y = pd.read_feather('./tags.ftr')"
   ]
  },
  {
   "cell_type": "code",
   "execution_count": 10,
   "metadata": {},
   "outputs": [],
   "source": [
    "#get count of all tags and select top K tags\n",
    "\n",
    "num_tags = 100\n",
    "tags_count = y.groupby('Tag')['Id'].nunique().sort_values(ascending=False).reset_index(name='count').head(num_tags)\n",
    "tags_to_use = tags_count['Tag']"
   ]
  },
  {
   "cell_type": "code",
   "execution_count": 11,
   "metadata": {},
   "outputs": [],
   "source": [
    "#select K questions per tag and form a set of questions over all tags\n",
    "\n",
    "num_questions_per_tag = 1000\n",
    "question_ids = set()\n",
    "individual_tag_question_ids = []\n",
    "for tag in tags_to_use:\n",
    "    tag_question_ids = []\n",
    "    count, i = 0, 0\n",
    "    while count<num_questions_per_tag and i<y.shape[0]:\n",
    "        if y.loc[y.index[i], 'Tag']==tag:\n",
    "            tag_question_ids.append(y.loc[y.index[i], 'Id'])\n",
    "            count+=1\n",
    "        i+=1\n",
    "    individual_tag_question_ids.append(tag_question_ids)\n",
    "    question_ids.update(tag_question_ids)\n",
    "\n",
    "#get questions having the selected tags using the above question ids set\n",
    "\n",
    "X_with_valid_tags = X[X['Id'].isin(question_ids)]"
   ]
  },
  {
   "cell_type": "code",
   "execution_count": 14,
   "metadata": {},
   "outputs": [
    {
     "name": "stderr",
     "output_type": "stream",
     "text": [
      "/home/virik/anaconda3/lib/python3.7/site-packages/ipykernel_launcher.py:24: SettingWithCopyWarning: \n",
      "A value is trying to be set on a copy of a slice from a DataFrame.\n",
      "Try using .loc[row_indexer,col_indexer] = value instead\n",
      "\n",
      "See the caveats in the documentation: https://pandas.pydata.org/pandas-docs/stable/user_guide/indexing.html#returning-a-view-versus-a-copy\n"
     ]
    }
   ],
   "source": [
    "#select top K words from question set per tag and form overall set of words to be used as final features\n",
    "\n",
    "num_words_per_tag = 100\n",
    "word_features = set()\n",
    "for tag_question_ids in individual_tag_question_ids:\n",
    "    tag_word_features = {}\n",
    "    for i in range(X_with_valid_tags.shape[0]):\n",
    "        if X_with_valid_tags.loc[X_with_valid_tags.index[i], 'Id'] in tag_question_ids:\n",
    "            for word in nltk.tokenize.word_tokenize(X_with_valid_tags.iloc[i, 0]):\n",
    "                if word not in tag_word_features:\n",
    "                    tag_word_features[word] = 1\n",
    "                else:\n",
    "                    tag_word_features[word] += 1\n",
    "            for word in nltk.tokenize.word_tokenize(X_with_valid_tags.iloc[i, 1]):\n",
    "                if word not in tag_word_features:\n",
    "                    tag_word_features[word] = 1\n",
    "                else:\n",
    "                    tag_word_features[word] += 1\n",
    "    tag_word_features = sorted(tag_word_features.items(), key=lambda item: item[1], reverse=True)\n",
    "    tag_word_features = [item[0] for item in tag_word_features[:num_words_per_tag]]\n",
    "    word_features.update(tag_word_features)\n",
    "\n",
    "for word in word_features:\n",
    "    X_with_valid_tags[word] = 0"
   ]
  },
  {
   "cell_type": "code",
   "execution_count": 15,
   "metadata": {
    "scrolled": true
   },
   "outputs": [
    {
     "name": "stderr",
     "output_type": "stream",
     "text": [
      "/home/virik/anaconda3/lib/python3.7/site-packages/pandas/core/indexing.py:965: SettingWithCopyWarning: \n",
      "A value is trying to be set on a copy of a slice from a DataFrame.\n",
      "Try using .loc[row_indexer,col_indexer] = value instead\n",
      "\n",
      "See the caveats in the documentation: https://pandas.pydata.org/pandas-docs/stable/user_guide/indexing.html#returning-a-view-versus-a-copy\n",
      "  self.obj[item] = s\n"
     ]
    }
   ],
   "source": [
    "#populate the word feature columns based on whether it appears in title or body of question\n",
    "\n",
    "for i in range(X_with_valid_tags.shape[0]):\n",
    "    for word in nltk.tokenize.word_tokenize(X_with_valid_tags.iloc[i, 0]):\n",
    "        if word in word_features:\n",
    "            X_with_valid_tags.loc[X_with_valid_tags.index[i], word] = 1\n",
    "    for word in nltk.tokenize.word_tokenize(X_with_valid_tags.iloc[i, 1]):\n",
    "        if word in word_features:\n",
    "            X_with_valid_tags.loc[X_with_valid_tags.index[i], word] = 1"
   ]
  },
  {
   "cell_type": "code",
   "execution_count": 16,
   "metadata": {},
   "outputs": [],
   "source": [
    "#form the target labels(tags) columns\n",
    "\n",
    "y_with_valid_tags = pd.DataFrame()\n",
    "for tag in tags_to_use:\n",
    "    y_with_valid_tags[tag] = 0\n",
    "    \n",
    "#populate target label columns based on whether the question was assigned the label\n",
    "\n",
    "for i in range(X_with_valid_tags.shape[0]):\n",
    "    for j in range(len(individual_tag_question_ids)):\n",
    "        if X_with_valid_tags.loc[X_with_valid_tags.index[i], 'Id'] in individual_tag_question_ids[j]:\n",
    "            y_with_valid_tags.loc[X_with_valid_tags.index[i], tags_to_use[j]] = 1\n",
    "y_with_valid_tags = y_with_valid_tags.fillna(0)"
   ]
  },
  {
   "cell_type": "code",
   "execution_count": 17,
   "metadata": {},
   "outputs": [],
   "source": [
    "#save the dataframes as csvs\n",
    "\n",
    "X_with_valid_tags.to_csv('./X_with_valid_tags.csv', index=False)\n",
    "y_with_valid_tags.to_csv('./y_with_valid_tags.csv', index=False)"
   ]
  }
 ],
 "metadata": {
  "kernelspec": {
   "display_name": "Python 3",
   "language": "python",
   "name": "python3"
  },
  "language_info": {
   "codemirror_mode": {
    "name": "ipython",
    "version": 3
   },
   "file_extension": ".py",
   "mimetype": "text/x-python",
   "name": "python",
   "nbconvert_exporter": "python",
   "pygments_lexer": "ipython3",
   "version": "3.7.6"
  }
 },
 "nbformat": 4,
 "nbformat_minor": 4
}
