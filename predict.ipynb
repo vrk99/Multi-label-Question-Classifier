{
 "cells": [
  {
   "cell_type": "code",
   "execution_count": 6,
   "metadata": {},
   "outputs": [],
   "source": [
    "import pickle\n",
    "import pandas as pd\n",
    "import nltk\n",
    "from bs4 import BeautifulSoup\n",
    "import string\n",
    "import re"
   ]
  },
  {
   "cell_type": "code",
   "execution_count": 7,
   "metadata": {},
   "outputs": [],
   "source": [
    "input_file = open('./models.pkl', 'rb')\n",
    "models = pickle.load(input_file)\n",
    "input_file.close()"
   ]
  },
  {
   "cell_type": "code",
   "execution_count": 8,
   "metadata": {},
   "outputs": [],
   "source": [
    "#function to perform text preprocessing on an input example\n",
    "\n",
    "def preprocess(title, body):\n",
    "    body = BeautifulSoup(body).get_text()\n",
    "    title = title.lower()\n",
    "    body = body.lower()\n",
    "    title = re.sub(r'\\d+', '', title)\n",
    "    body = re.sub(r'\\d+', '', body)\n",
    "    title = title.translate(title.maketrans('', '', string.punctuation))\n",
    "    body = body.translate(body.maketrans('', '', string.punctuation))\n",
    "    title = title.strip()\n",
    "    body = body.strip()\n",
    "    stopwords = set(nltk.corpus.stopwords.words('english'))\n",
    "    title = \" \".join([word for word in nltk.tokenize.word_tokenize(title) if not word in stopwords])\n",
    "    body = \" \".join([word for word in nltk.tokenize.word_tokenize(body) if not word in stopwords])\n",
    "    stemmer = nltk.stem.SnowballStemmer('english')\n",
    "    title = \" \".join([stemmer.stem(word) for word in nltk.tokenize.word_tokenize(title)])\n",
    "    body = \" \".join([stemmer.stem(word) for word in nltk.tokenize.word_tokenize(body)])\n",
    "    return title, body"
   ]
  },
  {
   "cell_type": "code",
   "execution_count": 10,
   "metadata": {},
   "outputs": [],
   "source": [
    "#predict the output labels for a new question\n",
    "\n",
    "title = input(\"Enter Question Title: \")\n",
    "body = input(\"Enter Question Body: \")\n",
    "for tag, model in models.items():\n",
    "    x = pd.DataFrame(columns=model['features'], index=range(1))\n",
    "    for word in model['features']:\n",
    "        x[word] = 0\n",
    "    for word in nltk.tokenize.word_tokenize(title):\n",
    "        if word in model['features']:\n",
    "            x.loc[x.index[0], word] = 1\n",
    "    for word in nltk.tokenize.word_tokenize(body):\n",
    "        if word in model['features']:\n",
    "            x.loc[x.index[0], word] = 1\n",
    "    print(tag, model['model'].predict(x))"
   ]
  }
 ],
 "metadata": {
  "kernelspec": {
   "display_name": "Python 3",
   "language": "python",
   "name": "python3"
  },
  "language_info": {
   "codemirror_mode": {
    "name": "ipython",
    "version": 3
   },
   "file_extension": ".py",
   "mimetype": "text/x-python",
   "name": "python",
   "nbconvert_exporter": "python",
   "pygments_lexer": "ipython3",
   "version": "3.7.6"
  }
 },
 "nbformat": 4,
 "nbformat_minor": 4
}
